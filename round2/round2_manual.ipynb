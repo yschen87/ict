{
 "cells": [
  {
   "cell_type": "code",
   "execution_count": 49,
   "metadata": {},
   "outputs": [],
   "source": [
    "import numpy as np\n",
    "import pandas as pd\n",
    "import scipy\n",
    "import matplotlib.pyplot as plt\n",
    "import itertools\n",
    "pd.options.mode.chained_assignment = None"
   ]
  },
  {
   "cell_type": "code",
   "execution_count": 2,
   "metadata": {},
   "outputs": [],
   "source": [
    "\n"
   ]
  },
  {
   "cell_type": "code",
   "execution_count": 48,
   "metadata": {},
   "outputs": [
    {
     "name": "stdout",
     "output_type": "stream",
     "text": [
      "The most profitable sequence is 301303, with the profit being 1.0569693888\n"
     ]
    }
   ],
   "source": [
    "# solve by dfs\n",
    "\n",
    "def dfs(cur, total, depth, seq, res):\n",
    "\n",
    "    if depth > 5:\n",
    "        return\n",
    "\n",
    "    trans = [\n",
    "        [1, 0.48, 1.52, 0.71],\n",
    "        [2.05, 1, 3.26, 1.56],\n",
    "        [0.64, 0.3, 1, 0.46],\n",
    "        [1.41, 0.61, 2.08, 1]\n",
    "    ]\n",
    "\n",
    "    for nxt in (0, 1, 2, 3):\n",
    "        nseq = seq + f\"{nxt}\"\n",
    "        ntotal = total * trans[cur][nxt]\n",
    "        dfs(nxt, ntotal, depth+1, nseq, res)\n",
    "        if nxt == 3:\n",
    "            res[nseq] = ntotal\n",
    "\n",
    "RESULT = {}\n",
    "dfs(3, 1, 1, \"3\", RESULT)\n",
    "max_seq, max_profit = max(RESULT.items(), key=lambda x: x[1])\n",
    "\n",
    "print(f\"The most profitable sequence is {max_seq}, with the profit being {max_profit}\")\n"
   ]
  },
  {
   "cell_type": "code",
   "execution_count": 67,
   "metadata": {},
   "outputs": [
    {
     "name": "stdout",
     "output_type": "stream",
     "text": [
      "The most profitable sequence is (3, 0, 1, 3, 0, 3), with the profit being 1.0569693888\n"
     ]
    }
   ],
   "source": [
    "all_seq = list(itertools.product([0, 1, 2, 3], repeat=6))\n",
    "\n",
    "trans = [\n",
    "    [1, 0.48, 1.52, 0.71],\n",
    "    [2.05, 1, 3.26, 1.56],\n",
    "    [0.64, 0.3, 1, 0.46],\n",
    "    [1.41, 0.61, 2.08, 1]\n",
    "]\n",
    "\n",
    "max_seq, max_profit = None, 1\n",
    "for seq in all_seq:\n",
    "    if seq[0] == 3 and seq[-1] == 3:\n",
    "        profit = 1\n",
    "        for cur, nxt in zip(seq[:-1], seq[1:]):\n",
    "            profit *= trans[cur][nxt]\n",
    "        if profit > max_profit:\n",
    "            max_profit = profit\n",
    "            max_seq = seq\n",
    "\n",
    "print(f\"The most profitable sequence is {max_seq}, with the profit being {max_profit}\")"
   ]
  },
  {
   "cell_type": "code",
   "execution_count": null,
   "metadata": {},
   "outputs": [],
   "source": []
  }
 ],
 "metadata": {
  "kernelspec": {
   "display_name": "python311",
   "language": "python",
   "name": "python3"
  },
  "language_info": {
   "codemirror_mode": {
    "name": "ipython",
    "version": 3
   },
   "file_extension": ".py",
   "mimetype": "text/x-python",
   "name": "python",
   "nbconvert_exporter": "python",
   "pygments_lexer": "ipython3",
   "version": "3.11.0"
  }
 },
 "nbformat": 4,
 "nbformat_minor": 2
}
