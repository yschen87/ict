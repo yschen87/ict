{
 "cells": [
  {
   "cell_type": "code",
   "execution_count": 4,
   "metadata": {},
   "outputs": [],
   "source": [
    "import numpy as np\n",
    "import pandas as pd\n",
    "import scipy\n",
    "import matplotlib.pyplot as plt\n",
    "pd.options.mode.chained_assignment = None"
   ]
  },
  {
   "cell_type": "code",
   "execution_count": 6,
   "metadata": {},
   "outputs": [
    {
     "data": {
      "text/plain": [
       " message: Optimization terminated successfully\n",
       " success: True\n",
       "  status: 0\n",
       "     fun: -0.20415874062825926\n",
       "       x: [ 5.218e-01  7.824e-01]\n",
       "     nit: 6\n",
       "     jac: [ 2.416e-04 -5.125e-04]\n",
       "    nfev: 18\n",
       "    njev: 6"
      ]
     },
     "execution_count": 6,
     "metadata": {},
     "output_type": "execute_result"
    }
   ],
   "source": [
    "# solve by formula\n",
    "\n",
    "def profit(x):\n",
    "    x1, x2 = x\n",
    "    return - x1 ** 2 * (1 - x1) - (x2 ** 2 - x1 ** 2) * (1 - x2)\n",
    "\n",
    "cons = (\n",
    "    {'type': 'ineq', 'fun': lambda x: -x[0] + 1},\n",
    "    {'type': 'ineq', 'fun': lambda x: -x[1] + 1},\n",
    "    {'type': 'ineq', 'fun': lambda x: x[0]},\n",
    "    {'type': 'ineq', 'fun': lambda x: x[1]},\n",
    "    {'type': 'ineq', 'fun': lambda x: x[1] - x[0]},\n",
    ")\n",
    "\n",
    "scipy.optimize.minimize(profit, \n",
    "                        (0.3, 0.6),\n",
    "                        constraints=cons\n",
    "                        )\n"
   ]
  },
  {
   "cell_type": "code",
   "execution_count": 7,
   "metadata": {},
   "outputs": [
    {
     "ename": "KeyboardInterrupt",
     "evalue": "",
     "output_type": "error",
     "traceback": [
      "\u001b[0;31m---------------------------------------------------------------------------\u001b[0m",
      "\u001b[0;31mKeyboardInterrupt\u001b[0m                         Traceback (most recent call last)",
      "Cell \u001b[0;32mIn[7], line 19\u001b[0m\n\u001b[1;32m     17\u001b[0m \u001b[38;5;28;01mfor\u001b[39;00m i \u001b[38;5;129;01min\u001b[39;00m \u001b[38;5;28mrange\u001b[39m(\u001b[38;5;241m900\u001b[39m, \u001b[38;5;241m1001\u001b[39m):\n\u001b[1;32m     18\u001b[0m     \u001b[38;5;28;01mfor\u001b[39;00m j \u001b[38;5;129;01min\u001b[39;00m \u001b[38;5;28mrange\u001b[39m(i\u001b[38;5;241m+\u001b[39m\u001b[38;5;241m1\u001b[39m, \u001b[38;5;241m1001\u001b[39m):\n\u001b[0;32m---> 19\u001b[0m         res[i\u001b[38;5;241m-\u001b[39m\u001b[38;5;241m900\u001b[39m][j\u001b[38;5;241m-\u001b[39m\u001b[38;5;241m900\u001b[39m] \u001b[38;5;241m=\u001b[39m profit(i, j, \u001b[38;5;241m10000\u001b[39m, \u001b[38;5;241m10000\u001b[39m)\n",
      "Cell \u001b[0;32mIn[7], line 8\u001b[0m, in \u001b[0;36mprofit\u001b[0;34m(first_bid, second_bid, M, N)\u001b[0m\n\u001b[1;32m      6\u001b[0m p \u001b[38;5;241m=\u001b[39m np\u001b[38;5;241m.\u001b[39marange(\u001b[38;5;241m1\u001b[39m, \u001b[38;5;241m101\u001b[39m) \u001b[38;5;241m/\u001b[39m np\u001b[38;5;241m.\u001b[39marange(\u001b[38;5;241m1\u001b[39m, \u001b[38;5;241m101\u001b[39m)\u001b[38;5;241m.\u001b[39msum()\n\u001b[1;32m      7\u001b[0m \u001b[38;5;28;01mfor\u001b[39;00m i \u001b[38;5;129;01min\u001b[39;00m \u001b[38;5;28mrange\u001b[39m(N):\n\u001b[0;32m----> 8\u001b[0m     ppl \u001b[38;5;241m=\u001b[39m np\u001b[38;5;241m.\u001b[39mrandom\u001b[38;5;241m.\u001b[39mchoice(np\u001b[38;5;241m.\u001b[39marange(\u001b[38;5;241m901\u001b[39m, \u001b[38;5;241m1001\u001b[39m), p\u001b[38;5;241m=\u001b[39mp, size\u001b[38;5;241m=\u001b[39mM)\n\u001b[1;32m      9\u001b[0m     n1 \u001b[38;5;241m=\u001b[39m np\u001b[38;5;241m.\u001b[39msum(ppl \u001b[38;5;241m<\u001b[39m\u001b[38;5;241m=\u001b[39m first_bid)\n\u001b[1;32m     10\u001b[0m     n2 \u001b[38;5;241m=\u001b[39m np\u001b[38;5;241m.\u001b[39msum(ppl \u001b[38;5;241m<\u001b[39m\u001b[38;5;241m=\u001b[39m second_bid) \u001b[38;5;241m-\u001b[39m n1\n",
      "\u001b[0;31mKeyboardInterrupt\u001b[0m: "
     ]
    }
   ],
   "source": [
    "# solve by simulation\n",
    "\n",
    "def profit(first_bid, second_bid, M=1000, N=10000):\n",
    "\n",
    "    res = 0\n",
    "    p = np.arange(1, 101) / np.arange(1, 101).sum()\n",
    "    for i in range(N):\n",
    "        ppl = np.random.choice(np.arange(901, 1001), p=p, size=M)\n",
    "        n1 = np.sum(ppl <= first_bid)\n",
    "        n2 = np.sum(ppl <= second_bid) - n1\n",
    "        profit = n1 * (1000 - first_bid) + n2 * (1000 - second_bid)\n",
    "        res += profit\n",
    "    return res / N / M\n",
    "\n",
    "res = np.zeros((101, 101))\n",
    "\n",
    "for i in range(900, 1001):\n",
    "    for j in range(i+1, 1001):\n",
    "        res[i-900][j-900] = profit(i, j, 10000, 10000)"
   ]
  },
  {
   "cell_type": "code",
   "execution_count": 9,
   "metadata": {},
   "outputs": [],
   "source": [
    "pd.DataFrame(res).to_csv(r\"/Users/ysc/Desktop/imcProsperity/round1/ttt.csv\")"
   ]
  },
  {
   "cell_type": "code",
   "execution_count": null,
   "metadata": {},
   "outputs": [],
   "source": []
  }
 ],
 "metadata": {
  "kernelspec": {
   "display_name": "python311",
   "language": "python",
   "name": "python3"
  },
  "language_info": {
   "codemirror_mode": {
    "name": "ipython",
    "version": 3
   },
   "file_extension": ".py",
   "mimetype": "text/x-python",
   "name": "python",
   "nbconvert_exporter": "python",
   "pygments_lexer": "ipython3",
   "version": "3.11.0"
  }
 },
 "nbformat": 4,
 "nbformat_minor": 2
}
