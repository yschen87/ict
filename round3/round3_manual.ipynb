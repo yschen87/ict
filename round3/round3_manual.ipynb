{
 "cells": [
  {
   "cell_type": "code",
   "execution_count": 1,
   "metadata": {},
   "outputs": [],
   "source": [
    "import numpy as np\n",
    "import pandas as pd\n",
    "import scipy\n",
    "import matplotlib.pyplot as plt\n",
    "import itertools\n",
    "pd.options.mode.chained_assignment = None"
   ]
  },
  {
   "cell_type": "code",
   "execution_count": 5,
   "metadata": {},
   "outputs": [],
   "source": [
    "tmap = np.array([\n",
    "    [24, 70, 41, 21, 60],\n",
    "    [47, 82, 87, 80, 35],\n",
    "    [73, 89, 100, 90, 17],\n",
    "    [77, 83, 85, 79, 55],\n",
    "    [12, 27, 52, 15, 30]\n",
    "    ]) * 7500\n",
    "\n",
    "hunters = np.array([\n",
    "    [2, 4, 3, 2, 4],\n",
    "    [3, 5, 5, 5, 3],\n",
    "    [4, 5, 8, 7, 2],\n",
    "    [5, 5, 5 ,5, 4],\n",
    "    [2, 3, 4, 2, 3]\n",
    "])"
   ]
  },
  {
   "cell_type": "code",
   "execution_count": 7,
   "metadata": {},
   "outputs": [],
   "source": [
    "fraction = np.ones((5, 5)) * 4"
   ]
  },
  {
   "cell_type": "code",
   "execution_count": 18,
   "metadata": {},
   "outputs": [
    {
     "data": {
      "text/plain": [
       "array([[30000.        , 65625.        , 43928.57142857, 26250.        ,\n",
       "        56250.        ],\n",
       "       [50357.14285714, 68333.33333333, 72500.        , 66666.66666667,\n",
       "        37500.        ],\n",
       "       [68437.5       , 74166.66666667, 62500.        , 61363.63636364,\n",
       "        21250.        ],\n",
       "       [64166.66666667, 69166.66666667, 70833.33333333, 65833.33333333,\n",
       "        51562.5       ],\n",
       "       [15000.        , 28928.57142857, 48750.        , 18750.        ,\n",
       "        32142.85714286]])"
      ]
     },
     "execution_count": 18,
     "metadata": {},
     "output_type": "execute_result"
    }
   ],
   "source": [
    "p1 = tmap / (hunters + fraction)\n",
    "p1"
   ]
  },
  {
   "cell_type": "code",
   "execution_count": 28,
   "metadata": {},
   "outputs": [],
   "source": [
    "fraction2 = p1 / p1.sum() * 100"
   ]
  },
  {
   "cell_type": "code",
   "execution_count": 37,
   "metadata": {},
   "outputs": [],
   "source": [
    "N = 1\n",
    "res = np.zeros((5, 5))\n",
    "\n",
    "for i in range(N):\n",
    "    f1 = fraction2 * np.random.uniform(0.2, 3, (5, 5))\n",
    "    f1 = f1 / f1.sum() * 100\n",
    "    res += tmap / (hunters + f1)"
   ]
  },
  {
   "cell_type": "code",
   "execution_count": 43,
   "metadata": {},
   "outputs": [],
   "source": [
    "f2 = (tmap / hunters - 10000) / (tmap / hunters - 10000).sum() * 100"
   ]
  },
  {
   "cell_type": "code",
   "execution_count": 44,
   "metadata": {},
   "outputs": [
    {
     "data": {
      "text/plain": [
       "array([[3.48101758, 5.27591726, 4.02492657, 2.99149948, 4.46005377],\n",
       "       [4.67761737, 4.91693733, 5.24328272, 4.78639917, 3.37223578],\n",
       "       [5.52067631, 5.37382088, 3.64419027, 3.7607422 , 2.33880868],\n",
       "       [4.59059193, 4.98220641, 5.11274456, 4.72113009, 4.05212202],\n",
       "       [1.52294519, 2.50198138, 3.80736297, 2.01246329, 2.82832678]])"
      ]
     },
     "execution_count": 44,
     "metadata": {},
     "output_type": "execute_result"
    }
   ],
   "source": [
    "f2"
   ]
  },
  {
   "cell_type": "code",
   "execution_count": 45,
   "metadata": {},
   "outputs": [
    {
     "data": {
      "text/plain": [
       "array([[32840.61718524, 56598.17623171, 43772.69952018, 31553.64448097,\n",
       "        53191.15129428],\n",
       "       [45912.68138456, 62015.11411983, 63700.28218374, 61309.57768621,\n",
       "        41194.3326009 ],\n",
       "       [57506.41887811, 64344.66215761, 64409.80285389, 62728.01515793,\n",
       "        29385.94653257],\n",
       "       [60215.26140534, 62360.96256684, 63039.26653297, 60949.70385824,\n",
       "        51228.73186322],\n",
       "       [25546.80676495, 36804.92279274, 49952.84596215, 28037.63971836,\n",
       "        38604.56156162]])"
      ]
     },
     "execution_count": 45,
     "metadata": {},
     "output_type": "execute_result"
    }
   ],
   "source": [
    "tmap / (hunters + f2)"
   ]
  },
  {
   "cell_type": "code",
   "execution_count": null,
   "metadata": {},
   "outputs": [],
   "source": []
  }
 ],
 "metadata": {
  "kernelspec": {
   "display_name": "python311",
   "language": "python",
   "name": "python3"
  },
  "language_info": {
   "codemirror_mode": {
    "name": "ipython",
    "version": 3
   },
   "file_extension": ".py",
   "mimetype": "text/x-python",
   "name": "python",
   "nbconvert_exporter": "python",
   "pygments_lexer": "ipython3",
   "version": "3.11.0"
  }
 },
 "nbformat": 4,
 "nbformat_minor": 2
}
